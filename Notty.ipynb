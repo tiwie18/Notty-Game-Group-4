{
 "cells": [
  {
   "metadata": {
    "ExecuteTime": {
     "end_time": "2024-11-27T15:06:54.575365Z",
     "start_time": "2024-11-27T15:02:37.988630Z"
    }
   },
   "cell_type": "code",
   "source": [
    "from pickle import GLOBAL\n",
    "\n",
    "import pygame\n",
    "from pygame.locals import *\n",
    "import random\n",
    "from enum import Enum\n",
    "import os\n",
    "import scripts.configs as configs\n",
    "from scripts.ui_base import *\n",
    "from scripts.screen_base import *\n",
    "from scripts.screens import *\n",
    "import scripts.global_variables as global_variables\n",
    "import scripts.math_util as math_util\n",
    "\n",
    "\n",
    "# Main game loop\n",
    "def main():\n",
    "    # Initialize pygame\n",
    "    pygame.init()\n",
    "\n",
    "    # Set the window dimensions\n",
    "    screen = pygame.display.set_mode((configs.WINDOW_WIDTH, configs.WINDOW_HEIGHT))\n",
    "    pygame.display.set_caption('Card Game Funt4stic Te4m')\n",
    "\n",
    "    # Start with the home screen\n",
    "    global_variables.current_screen = StartScreen()\n",
    "    global_variables.game_over = False\n",
    "\n",
    "    while not global_variables.game_over:\n",
    "        # Event handling\n",
    "        for event in pygame.event.get():\n",
    "            if event.type == QUIT:\n",
    "                global_variables.game_over = True\n",
    "            if event.type == MOUSEBUTTONUP:\n",
    "                global_variables.current_screen.mouseup(event)\n",
    "            if event.type == KEYDOWN:\n",
    "                global_variables.current_screen.keydown(event)\n",
    "\n",
    "        # Update game state\n",
    "        global_variables.current_screen.update()\n",
    "\n",
    "        # Draw everything\n",
    "        global_variables.current_screen.draw(screen)\n",
    "\n",
    "        # Update the screen\n",
    "        pygame.display.flip()\n",
    "\n",
    "        # Delay to limit frame rate\n",
    "        pygame.time.delay(30)\n",
    "\n",
    "    pygame.quit()\n",
    "\n",
    "if __name__ == \"__main__\":\n",
    "    main()"
   ],
   "id": "75555ac481289e0e",
   "outputs": [
    {
     "name": "stdout",
     "output_type": "stream",
     "text": [
      "pygame 2.6.1 (SDL 2.28.4, Python 3.12.6)\n",
      "Hello from the pygame community. https://www.pygame.org/contribute.html\n",
      "Animation initialized\n",
      "Transitioning to HomeScreen...\n"
     ]
    }
   ],
   "execution_count": 1
  },
  {
   "metadata": {
    "ExecuteTime": {
     "end_time": "2024-11-27T15:06:55.248559Z",
     "start_time": "2024-11-27T15:06:55.244619Z"
    }
   },
   "cell_type": "code",
   "source": "",
   "id": "a3bb885bff1cffa1",
   "outputs": [],
   "execution_count": null
  }
 ],
 "metadata": {
  "kernelspec": {
   "name": "python3",
   "language": "python",
   "display_name": "Python 3 (ipykernel)"
  }
 },
 "nbformat": 5,
 "nbformat_minor": 9
}
