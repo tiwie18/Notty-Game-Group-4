try:
    pygame.quit()
except:
    pass

import pygame
import random
import os
import sys
from dataclasses import dataclass
from typing import List, Tuple

def force_quit():
    """Force quit the program"""
    try:
        pygame.display.quit()
        pygame.quit()
    finally:
        import os
        os._exit(0)  # Force terminate the program

def quit_game():
    """Helper function to properly quit the game"""
    try:
        pygame.display.quit()
        pygame.quit()
    finally:
        force_quit()

def get_base_path():
    """Get the base path whether running in notebook or as script"""
    try:
        # When running as a script
        return os.path.dirname(os.path.abspath(__file__))
    except NameError:
        # When running in Jupyter notebook
        return os.getcwd()

class Card:
    def __init__(self, colour: str, number: int):
        assert isinstance(number, int)
        self.colour = colour
        self.number = number
        self.image = None
        self.rect = None
        self.selected = False
        self.highlighted = False

    def __repr__(self):
        return f'{self.colour} {self.number}'

class CardGame:
    def __init__(self):
        self.colours = ['red', 'blue', 'yellow', 'green']
        self.numbers = range(1, 11)  # 1 to 10
        self.deck = []
        self.players_hands = []
        self.card_images = {}
        self.selected_cards = []
        self.current_player = 0
        self.has_taken_card = False
        self.load_card_images()

    def load_card_images(self):
        base_path = get_base_path()
        image_dir = os.path.join(base_path, 'resources', 'images', 'cards')
        
        if not os.path.exists(image_dir):
            os.makedirs(image_dir)
            print(f"Created '{image_dir}' directory. Please place your card images there.")
            return
        
        for colour in self.colours:
            for number in self.numbers:
                filename = f"{colour}_{number}.png"
                filepath = os.path.join(image_dir, filename)
                
                try:
                    original_image = pygame.image.load(filepath)
                    scaled_image = pygame.transform.scale(original_image, (80, 120))
                    self.card_images[f"{colour}_{number}"] = scaled_image
                except pygame.error as e:
                    print(f"Couldn't load image: {filepath}")
                    print(f"Error: {e}")
                    placeholder = pygame.Surface((80, 120))
                    placeholder.fill((200, 200, 200))
                    font = pygame.font.Font(None, 36)
                    text = font.render(f"{colour[0]}{number}", True, (0, 0, 0))
                    text_rect = text.get_rect(center=(40, 60))
                    placeholder.blit(text, text_rect)
                    self.card_images[f"{colour}_{number}"] = placeholder

    def create_deck(self):
        self.deck.clear()
        for _ in range(2):
            for colour in self.colours:
                for number in self.numbers:
                    card = Card(colour, number)
                    card.image = self.card_images[f"{colour}_{number}"]
                    self.deck.append(card)
        random.shuffle(self.deck)

    def deal_initial_hands(self, num_players):
        if num_players not in [2, 3]:
            raise ValueError("Game supports only 2 or 3 players")
        
        self.players_hands = [[] for _ in range(num_players)]
        
        for _ in range(5):
            for player in range(num_players):
                if self.deck:
                    card = self.deck.pop()
                    self.players_hands[player].append(card)

    def is_valid_sequence(self, cards: List[Card]) -> bool:
        if len(cards) < 3:
            return False
        
        colour = cards[0].colour
        if not all(card.colour == colour for card in cards):
            return False
        
        numbers = sorted(card.number for card in cards)
        return all(numbers[i] + 1 == numbers[i + 1] for i in range(len(numbers) - 1))

    def is_valid_set(self, cards: List[Card]) -> bool:
        if len(cards) < 3:
            return False
        
        number = cards[0].number
        if not all(card.number == number for card in cards):
            return False
        
        colours = [card.colour for card in cards]
        return len(colours) == len(set(colours))

    def is_valid_group(self, cards: List[Card]) -> bool:
        return self.is_valid_sequence(cards) or self.is_valid_set(cards)

    def discard_cards(self, cards: List[Card]) -> bool:
        if not self.is_valid_group(cards):
            return False
        
        for card in cards:
            self.players_hands[self.current_player].remove(card)
        
        self.deck.extend(cards)
        random.shuffle(self.deck)
        return True

    def handle_card_click(self, pos):
        current_hand = self.players_hands[self.current_player]
        
        if not self.has_taken_card:
            for player_idx, hand in enumerate(self.players_hands):
                if player_idx != self.current_player:
                    for card in hand:
                        if card.rect.collidepoint(pos):
                            for other_card in hand:
                                other_card.highlighted = False
                            card.highlighted = True
                            return True

        for card in current_hand:
            if card.rect.collidepoint(pos):
                card.selected = not card.selected
                if card.selected:
                    self.selected_cards.append(card)
                else:
                    self.selected_cards.remove(card)
                return True
        return False
    def take_highlighted_card(self):
        if self.has_taken_card:
            return False

        for player_idx, hand in enumerate(self.players_hands):
            if player_idx != self.current_player:
                for card in hand:
                    if card.highlighted:
                        hand.remove(card)
                        card.highlighted = False
                        self.players_hands[self.current_player].append(card)
                        self.has_taken_card = True
                        return True
        return False

    def draw_cards(self, screen, card_width=80, card_height=120):
        for player_idx, hand in enumerate(self.players_hands):
            for card_idx, card in enumerate(hand):
                if player_idx == 0:  # Bottom player
                    x = 100 + card_idx * (card_width + 10)
                    y = screen.get_height() - card_height - 60
                elif player_idx == 1:  # Top player
                    x = 100 + card_idx * (card_width + 10)
                    y = 60
                else:  # Right player (3-player game)
                    x = screen.get_width() - card_width - 60
                    y = 100 + card_idx * (card_height + 10)
                
                card.rect = pygame.Rect(x, y, card_width, card_height)
                
                if card.highlighted:
                    highlight = pygame.Surface((card_width + 4, card_height + 4))
                    highlight.fill((147, 112, 219))  # Medium purple
                    screen.blit(highlight, (x - 2, y - 2))
                
                if card.selected:
                    highlight = pygame.Surface((card_width + 4, card_height + 4))
                    highlight.fill((255, 140, 0))  # Dark orange
                    screen.blit(highlight, (x - 2, y - 2))
                
                screen.blit(card.image, card.rect)

    def draw_game_info(self, screen):
        font = pygame.font.SysFont('Arial', 24)
        
        player_text = font.render(f"Player {self.current_player + 1}'s Turn", True, (255, 255, 255))
        screen.blit(player_text, (10, 20))

        if not self.has_taken_card:
            take_text = font.render("Click opponent's card + SPACE to take it", True, (255, 255, 255))
            screen.blit(take_text, (10, screen.get_height() - 30))
        
        end_turn_text = font.render("Press ENTER to end turn", True, (255, 255, 255))
        screen.blit(end_turn_text, (screen.get_width() - 300, 20))
        
        esc_text = font.render("Press ESC to return to player selection", True, (255, 255, 255))
        screen.blit(esc_text, (10, screen.get_height() - 60))

    def end_turn(self):
        for hand in self.players_hands:
            for card in hand:
                card.highlighted = False
                card.selected = False
        
        self.selected_cards = []
        self.has_taken_card = False
        self.current_player = (self.current_player + 1) % len(self.players_hands)

def show_home_screen(screen):
    base_path = get_base_path()
    image_path = os.path.join(base_path, 'resources', 'images', 'ui', 'screen', 'HomeScreen.png')
    
    try:
        background = pygame.image.load(image_path).convert()
        background = pygame.transform.scale(background, (screen.get_width(), screen.get_height()))
    except (pygame.error, FileNotFoundError) as e:
        print(f"Error loading background: {e}")
        background = None
        
    screen.fill((34, 139, 34))  # Forest Green background as fallback
    
    if background:
        screen.blit(background, (0, 0))
    
    try:
        font_button = pygame.font.SysFont('Arial', 36)
    except pygame.error:
        font_button = pygame.font.Font(None, 36)
    
    button_surface = pygame.Surface((200, 50))
    button_surface.fill((0, 0, 0))
    button_surface.set_alpha(128)
    
    play_text = font_button.render("Play", True, (255, 255, 255))
    quit_text = font_button.render("Exit", True, (255, 255, 255))
    
    play_button_rect = play_text.get_rect(center=(screen.get_width() // 2, screen.get_height() - 200))
    quit_button_rect = quit_text.get_rect(center=(screen.get_width() // 2, screen.get_height() - 120))
    
    for button_rect in [play_button_rect, quit_button_rect]:
        button_bg = button_surface.copy()
        screen.blit(button_bg, (button_rect.centerx - 100, button_rect.centery - 25))
    
    screen.blit(play_text, play_button_rect)
    screen.blit(quit_text, quit_button_rect)
    
    pygame.display.flip()
    
    return play_button_rect, quit_button_rect

def show_player_selection(screen):
    try:
        font_button = pygame.font.SysFont('Arial', 48)
    except pygame.error:
        font_button = pygame.font.Font(None, 48)
    
    screen.fill((34, 139, 34))  # Forest Green
    
    # Create title
    title_text = font_button.render("Select number of players", True, (255, 255, 255))
    title_rect = title_text.get_rect(center=(screen.get_width() // 2, 100))
    
    # Create buttons with larger clickable areas
    button_surface = pygame.Surface((300, 80))
    button_surface.fill((0, 0, 0))
    button_surface.set_alpha(128)
    
    # Create and position buttons
    two_players_text = font_button.render("2 Players", True, (255, 255, 255))
    three_players_text = font_button.render("3 Players", True, (255, 255, 255))
    
    two_players_rect = pygame.Rect((screen.get_width() - 300) // 2, 200, 300, 80)
    three_players_rect = pygame.Rect((screen.get_width() - 300) // 2, 320, 300, 80)
    
    # Draw buttons
    screen.blit(title_text, title_rect)
    screen.blit(button_surface, two_players_rect)
    screen.blit(button_surface, three_players_rect)
    
    # Center text on buttons
    two_text_rect = two_players_text.get_rect(center=two_players_rect.center)
    three_text_rect = three_players_text.get_rect(center=three_players_rect.center)
    
    screen.blit(two_players_text, two_text_rect)
    screen.blit(three_players_text, three_text_rect)
    
    pygame.display.flip()
    
    return two_players_rect, three_players_rect

def handle_menu_selection(event, play_button_rect, quit_button_rect, two_players_rect, three_players_rect):
    if event.type == pygame.MOUSEBUTTONDOWN:
        mouse_pos = pygame.mouse.get_pos()
        if quit_button_rect and quit_button_rect.collidepoint(mouse_pos):
            force_quit()  # Use force_quit directly for the quit button
        elif play_button_rect and play_button_rect.collidepoint(mouse_pos):
            return 'play'
        elif two_players_rect and two_players_rect.collidepoint(mouse_pos):
            return '2_players'
        elif three_players_rect and three_players_rect.collidepoint(mouse_pos):
            return '3_players'
    return None

def main():
    pygame.init()
    try:
        screen = pygame.display.set_mode((800, 600))
        pygame.display.set_caption("Notty Game")
        clock = pygame.time.Clock()
        
        game = CardGame()
        
        menu_running = True
        while menu_running:
            play_button_rect, quit_button_rect = show_home_screen(screen)
            
            for event in pygame.event.get():
                if event.type == pygame.QUIT:
                    force_quit()  # Use force_quit for window close button
                    
                selection = handle_menu_selection(event, play_button_rect, quit_button_rect, None, None)
                if selection == 'quit':
                    force_quit()  # Use force_quit for quit button
                elif selection == 'play':
                    player_selection = True
                    while player_selection:
                        two_players_rect, three_players_rect = show_player_selection(screen)
                        
                        for event in pygame.event.get():
                            if event.type == pygame.QUIT:
                                force_quit()  # Use force_quit for window close
                                
                            selection = handle_menu_selection(event, None, None, two_players_rect, three_players_rect)
                            if selection in ['2_players', '3_players']:
                                num_players = 2 if selection == '2_players' else 3
                                game.create_deck()
                                game.deal_initial_hands(num_players)
                                
                                # Game loop
                                game_running = True
                                while game_running:
                                    for event in pygame.event.get():
                                        if event.type == pygame.QUIT:
                                            force_quit()  # Use force_quit for window close
                                        elif event.type == pygame.MOUSEBUTTONDOWN:
                                            if game.handle_card_click(event.pos):
                                                if len(game.selected_cards) >= 3:
                                                    if game.is_valid_group(game.selected_cards):
                                                        game.discard_cards(game.selected_cards)
                                                        game.selected_cards = []
                                        elif event.type == pygame.KEYDOWN:
                                            if event.key == pygame.K_SPACE:
                                                game.take_highlighted_card()
                                            elif event.key == pygame.K_RETURN:
                                                game.end_turn()
                                            elif event.key == pygame.K_ESCAPE:
                                                game_running = False
                                    
                                    screen.fill((34, 139, 34))
                                    game.draw_cards(screen)
                                    game.draw_game_info(screen)
                                    pygame.display.flip()
                                    clock.tick(60)
                                
                                player_selection = False
                        
                        clock.tick(60)
            
            clock.tick(60)
    except Exception as e:
        print(f"An error occurred: {e}")
        force_quit()
    finally:
        force_quit()

# For Jupyter Lab, we need to handle the execution differently
if __name__ == "__main__" or 'ipykernel' in sys.modules:
    main()
