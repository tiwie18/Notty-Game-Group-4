import pygame
from pygame.locals import *
import random
import os

WINDOW_WIDTH = 800
WINDOW_HEIGHT = 600

game_over = False
current_screen = None


class VisualObject:
    def __init__(self):
        pass

    def draw(self, screen):
        pass

    def update(self):
        pass

    def mouseup(self, event):
        pass
        

class Label(VisualObject):
    def __init__(self, text, pos, colour):
        self.text = text
        self.pos = pos
        self.colour = colour
        self.size = 36
        self.font = pygame.font.SysFont(None, self.size)

    def draw(self, screen):
        img = self.font.render(self.text, True, self.colour)
        self.width = img.get_width()
        self.height = img.get_height()
        screen.blit(img, self.pos)

        #if it's image instead of text:
    
    #  def __init__(self, image_path, pos):
    #     self.image_path = image_path
    #     self.pos = pos
    #     self.img = pygame.image.load(self.image_path)
    #     self.width = self.img.get_width()
    #     self.height = self.img.get_height()
    # def draw(self, screen):
    #     screen.blit(self.img, self.pos)
        


class ClickableLabel(Label):
    def __init__(self, text, pos, colour1, colour2):
        super().__init__(text, pos, colour1)
        self.colour1 = colour1
        self.colour2 = colour2

    def is_inside(self, pos):
        return self.pos[0] <= pos[0] <= self.pos[0] + self.width \
            and self.pos[1] <= pos[1] <= self.pos[1] + self.height
    
    def update(self):
        if self.is_inside(pygame.mouse.get_pos()):
            self.colour = self.colour2
        else:
            self.colour = self.colour1

    def mouseup(self, event):
        if event.button == 1 and self.is_inside(event.pos):
            self.click()

    def click(self):
        pass

#If it's image instead of text:

# class ClickableLabel(Label):
#     def __init__(self, image_path1, image_path2, pos):
#         super().__init__(image_path1, pos)
#         self.image_path1 = image_path1  #pict for normal(without click)
#         self.image_path2 = image_path2  #pict for hover
#         self.img_normal = pygame.image.load(self.image_path1)
#         self.img_hover = pygame.image.load(self.image_path2)
#         self.img = self.img_normal
#         self.width = self.img.get_width()
#         self.height = self.img.get_height()

#     def is_inside(self, pos):
#         return self.pos[0] <= pos[0] <= self.pos[0] + self.width and \
#                self.pos[1] <= pos[1] <= self.pos[1] + self.height

    # def update(self):
    #     if self.is_inside(pygame.mouse.get_pos()):
    #         self.img = self.img_hover  
    #     else:
    #         self.img = self.img_normal  

    # def mouseup(self, event):
    #     if event.button == 1 and self.is_inside(event.pos):
    #         self.click()

    # def click(self):
    #     pass

class PlayGameLabel(ClickableLabel):
    def click(self):
        global current_screen
        current_screen = ChoosePlayerScreen()
        
class RulesLabel(ClickableLabel):
    def click(self):
        global current_screen
        current_screen = RulesScreen()

class SettingLabel(ClickableLabel):
    def click(self):
        global current_screen
        current_screen = SettingScreen()
        
class TwoPlayerLabel(ClickableLabel):
    def click(self):
        global current_screen
        current_screen = TwoPlayerScreen()

class ThreePlayerLabel(ClickableLabel):
    def click(self):
        global current_screen
        current_screen = ThreePlayerScreen()
        
class DrawCardLabel(ClickableLabel):
    def __init__(self, game):
        self.game = game  # Reference to the PlayGame instance

    def display_action_options(self):
        # Display action options for the player
        choice = input("Choose action:\n1. Take a card from the opponent\n2. Draw cards from the deck\n")
        
        if choice == '1':
            self.game.take_card_from_opponent()  # Execute the action from PlayGame(we need to make new def in PlayGame Class)
        elif choice == '2':
            self.game.draw_cards_from_deck()  # Execute the action from PlayGame(we need to make new def in PlayGame Class)
        else:
            print("Invalid choice. Please choose again.")

    def reset_turn(self):
        # to make sure that this choice only once per turn
        self.game.reset_turn()
        
class DiscardLabel(ClickableLabel):
    def __init__(self, game):
        self.game = game  
    
    def click(self):
        self.game.discard_card()  # Execute the action from PlayGame(we need to make new def in PlayGame Class)

class PlayForMeLabel(ClickableLabel):  
    def __init__(self, game):
        self.game = game  
    
    def click(self):
        self.game.play_for_me()  # Execute the action from PlayGame(we need to make new def in PlayGame Class)
        
class PassLabel(ClickableLabel):
    def __init__(self, game):
        self.game = game  
    
    def click(self):
        pass

class NewGameLabel(ClickableLabel):
    def click(self):
        global current_screen
        current_screen = HomeScreen()

class QuitGameLabel(ClickableLabel):
    def click(self):
        global game_over
        game_over = True
        
class Card(VisualObject):
    def __init__(self, x, y, color, number, orientation='normal'):
        self.x = x
        self.y = y
        self.color = color
        self.number = number
        self.orientation = orientation  # 'normal', 'left', 'right'
        self.image = self.load_image(color, number)  # Load image dynamically based on card color/number
        self.image = self.adjust_orientation(self.image)  # Adjust card's orientation based on player position

    def load_image(self, color, number):
        """Load the appropriate image based on the card's color and number."""
        image_filename = f"cards/{color}_{number}.png"
        if os.path.exists(image_filename):
            return pygame.image.load(image_filename)
        else:
            print(f"Warning: Image {image_filename} not found, using a default card image.")
            return pygame.image.load('cards/default.png')

    def adjust_orientation(self, image):
        """Rotate the card based on its orientation ('normal', 'left', 'right')."""
        if self.orientation == 'left':
            return pygame.transform.rotate(image, 90)  # Rotate 90 degrees for left player
        elif self.orientation == 'right':
            return pygame.transform.rotate(image, -90)  # Rotate -90 degrees for right player
        return image  # No rotation needed for normal (bottom player)

    def update(self):
        """Update the card's position or other properties if needed."""
        # This could be used to update the card's position or its image orientation dynamically
        pass

    def draw(self, screen):
        """Draw the card image on the screen."""
        screen.blit(self.image, (self.x, self.y))


# Function to set the positions of cards based on the number of players
# def distribute_cards(players_count):
#     cards = []
#     card_width = 100  # Example width for card
#     card_height = 150  # Example height for card
#     starting_y = 50
#     spacing = 10

#     # Handle positions based on the number of players
#     if players_count == 2:
#         # For 2 players: Top and Bottom players, cards are horizontally arranged
#         # Player 1 (Top)
#         for i in range(5):
#             color = random.choice(["red", "blue", "green", "yellow"])
#             number = random.randint(1, 10)
#             card = Card(x=(i * (card_width + spacing)) + 50, y=starting_y, color=color, number=number, orientation='normal')
#             cards.append(card)

#         # Player 2 (Bottom)
#         for i in range(5):
#             color = random.choice(["red", "blue", "green", "yellow"])
#             number = random.randint(1, 10)
#             card = Card(x=(i * (card_width + spacing)) + 50, y=starting_y + 300, color=color, number=number, orientation='normal')
#             cards.append(card)

#     elif players_count == 3:
#         # For 3 players: One player at bottom, two players at left and right
#         # Bottom Player
#         for i in range(5):
#             color = random.choice(["red", "blue", "green", "yellow"])
#             number = random.randint(1, 10)
#             card = Card(x=(i * (card_width + spacing)) + 50, y=starting_y + 300, color=color, number=number, orientation='normal')
#             cards.append(card)

#         # Left Player
#         for i in range(5):
#             color = random.choice(["red", "blue", "green", "yellow"])
#             number = random.randint(1, 10)
#             card = Card(x=50, y=(i * (card_height + spacing)) + 150, color=color, number=number, orientation='left')
#             cards.append(card)

#         # Right Player
#         for i in range(5):
#             color = random.choice(["red", "blue", "green", "yellow"])
#             number = random.randint(1, 10)
#             card = Card(x=550, y=(i * (card_height + spacing)) + 150, color=color, number=number, orientation='right')
#             cards.append(card)

#     return cards

class Player(VisualObject):
    def __init__(self, position, cards):
        self.position = position  # Position: 'bottom', 'left', 'right'
        self.cards = cards  # List of cards

    def display_cards(self, screen, start_x, start_y, card_spacing=10):
        """Display the player's cards with the correct orientation, based on the player count."""
        card_width = self.cards[0].image.get_width()  # Width of a single card
        card_height = self.cards[0].image.get_height()  # Height of a single card

        if self.position == 'bottom':
            # Player at the bottom: cards are displayed horizontally (normal orientation)
            for i, card in enumerate(self.cards):
                card.x = start_x + i * (card_spacing + card_width)  # Adjust x for horizontal layout
                card.y = start_y  # Keep y constant for all cards
                card.orientation = 'normal'  # No rotation needed for the bottom player
                card.draw(screen)

        elif self.position == 'left':
            # Player at the left: cards are stacked vertically (rotated 90 degrees)
            for i, card in enumerate(self.cards):
                card.x = start_x  # x is fixed for left position
                card.y = start_y + i * (card_spacing + card_height)  # Adjust y for vertical layout
                card.orientation = 'left'  # Rotate cards for the left player
                card.draw(screen)

        elif self.position == 'right':
            # Player at the right: cards are stacked vertically (rotated -90 degrees)
            for i, card in enumerate(self.cards):
                card.x = start_x  # x is fixed for right position
                card.y = start_y + i * (card_spacing + card_height)  # Adjust y for vertical layout
                card.orientation = 'right'  # Rotate cards for the right player
                card.draw(screen)

import pygame
import os

# Constants for window size
WINDOW_HEIGHT = 600
WINDOW_WIDTH = 800

class Deck(VisualObject):
     def __init__(self):
        self.y = WINDOW_HEIGHT - 150  # y position near the bottom of the screen
        self.width = 100  # The width of one card
        self.height = 140  # The height of one card
        self.card_image = self.load_image()  # Load face-down card image
        self.card_stack = []  # List to hold stacked cards (will add multiple copies of the card image)
        self.create_deck()  # Initialize the deck with face-down cards
        self.x = (WINDOW_WIDTH - self.width) // 2  #

    def load_image(self):
        """Load the face-down card image."""
        image_filename = "cards/backside_card.png"  # Ensure this file exists
        if os.path.exists(image_filename):
            return pygame.image.load(image_filename)
        else:
            print(f"Warning: Image {image_filename} not found, using a default card image.")
           
    def create_deck(self):
        """Populate the deck with a stack of face-down cards."""
        # For simplicity, let's say the deck has 65 cards
        num_cards = 65
        for _ in range(num_cards):
            self.card_stack.append(self.card_image)

    def draw(self, screen):
        """Draw the stacked face-down cards on the screen."""
        # Loop through the stack and draw each card, with an offset for stacking effect
        for i, card_image in enumerate(self.card_stack):
            # Stack cards on top of each other with a small offset (like 5px)
            screen.blit(card_image, (self.x, self.y - (i * 5)))  # Vertical stacking effect

    def update(self):
        pass











class ScreenBase:
    def __init__(self, background_colour, background_filename = None):
        self.background_colour = background_colour
        self.objects = []
        if background_filename is not None:
            self.background_image = pygame.image.load(background_filename)
        else:
            self.background_image = None


    def draw(self, screen):
        screen.fill(self.background_colour)

        if self.background_image is not None:
            screen.blit(self.background_image, (0, 0))
        
        for o in self.objects:
            o.draw(screen)

    def update(self):
        for o in self.objects:
            o.update()

    def keydown(self, event):
        pass

    def mouseup(self, event):
        for o in self.objects:
            o.mouseup(event)


class MainScreen(ScreenBase):
    def __init__(self):
        super().__init__(pygame.Color('black'), 'background.jpg')
    
        paddle = Paddle()
        self.objects.append(paddle)

        self.ball = Ball(WINDOW_WIDTH / 2,
                            WINDOW_HEIGHT / 2,
                            random.uniform(-1, 1),
                            random.uniform(-1, 1),
                            paddle)
        self.objects.append(self.ball)

    def keydown(self, event):
        if event.key == K_UP:
            self.ball.vx *= 2
            self.ball.vy *= 2
        elif event.key == K_DOWN:
            self.ball.vx /= 2
            self.ball.vy /= 2


class GameOverScreen(ScreenBase):
    def __init__(self):
        super().__init__(pygame.Color('blue'))
        self.objects.append(NewGameLabel('Start a new game', (100, 100), pygame.Color('white'), pygame.Color('red')))
        self.objects.append(CloseWindowLabel('Close the window', (100, 200), pygame.Color('white'), pygame.Color('red')))

    def keydown(self, event):
        if event.key == K_ESCAPE:
            global game_over
            game_over = True

def run_game():
    global current_screen
    
    pygame.init()
    screen = pygame.display.set_mode((WINDOW_WIDTH, WINDOW_HEIGHT))

    pygame.display.set_caption('Hello World!')

    current_screen = MainScreen()
    
    while not game_over:
        # Handling the events
        for event in pygame.event.get():
            if event.type == QUIT:
                return
            elif event.type == KEYDOWN:
                current_screen.keydown(event)
            elif event.type == MOUSEBUTTONUP:
                current_screen.mouseup(event)

        # Rendering the picture
        current_screen.draw(screen)
        
        pygame.display.flip()

        # Updating the objects
        current_screen.update()
        
        # A delay
        pygame.time.wait(10)

run_game()
pygame.quit()
