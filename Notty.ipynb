import pygame
from pygame.locals import *
import random
from enum import Enum
import os
import scripts.math_util as math_util

# Create __init__.py in the scripts directory if it doesn't exist
scripts_dir = os.path.join(os.getcwd(), 'scripts')
init_file = os.path.join(scripts_dir, '__init__.py')

if not os.path.exists(init_file):
    with open(init_file, 'w') as f:
        pass  # Create an empty file

print(f"Created {init_file}")

WINDOW_WIDTH = 800
WINDOW_HEIGHT = 600

game_over = False
current_screen = None
def change_screen(screen_instance):
    global current_screen
    current_screen = screen_instance


def load_and_scale_image(image_path, scale_factor=0.2):
    """Memuat gambar dan mengubah ukurannya berdasarkan scale_factor."""
    img = pygame.image.load(image_path)
    new_width = int(img.get_width() * scale_factor)
    new_height = int(img.get_height() * scale_factor)
    return pygame.transform.scale(img, (new_width, new_height))


class VisualObject:
    def __init__(self, position2d=(0, 0), scale2d=(1, 1), rotation2d=(1, 0), alpha = 255):
        self.position2d = position2d
        self.scale2d = scale2d
        self.rotation2d = rotation2d
        self.alpha = alpha
        pass

    @property
    def euler_angle(self):
        return math_util.rotation_to_euler_angle(self.rotation2d)

    @euler_angle.setter
    def euler_angle(self, value):
        value = math_util.euler_angle_to_rotation(value)
        self.rotation2d = value

    def draw(self, screen):
        pass

    def update(self):
        pass

    def mouseup(self, event):
        pass


class RenderableImage(VisualObject):
    '''
    A class that provide basic rendering functionality for images along with transformation (position, scale, rotation)
    '''
    def __init__(self, image_src, position2d=(0, 0), scale2d=(1, 1), rotation2d=(1, 0), alpha = 255):
        super().__init__(position2d=position2d, scale2d=scale2d, rotation2d=rotation2d, alpha=alpha)
        self.image_src = image_src
        self._cached_src_image_dict = {}
        self._store_cache()

    @property
    def image(self):
        if self.image_src not in self._cached_src_image_dict.keys():
            self._update_cache_if_dirty()
        return self._cached_src_image_dict[self.image_src]

    def _transform_image(self):
        # basically follows the order of SQT scale->rotation->translation
        size2d = self._size2d()
        scale2d = self.scale2d
        original_size2d = self.image.get_size()
        # this is a simple super sampler anti-aliasing
        # rotation will severely corrupt the original image sample result, so do the pre scale before it is rotated
        preprocess_size2d = original_size2d
        if scale2d[0] > scale2d[1]:  # the original picture is not that long
            target_length = original_size2d[0] * scale2d[0] / scale2d[1]
            preprocess_size2d = (target_length, original_size2d[1])
        elif scale2d[0] < scale2d[1]:  # the original picture is not that high
            target_height = original_size2d[1] * scale2d[1] / scale2d[0]
            preprocess_size2d = (original_size2d[0], target_height)
        # point scale, also known as 1d scale
        scale_ratio = size2d[1] / preprocess_size2d[1]
        # in the following step we get the super sampled picture
        transformed_image = pygame.transform.scale(self.image, preprocess_size2d)
        angle = math_util.rotation_to_euler_angle(self.rotation2d)
        transformed_image = pygame.transform.rotate(transformed_image, angle)
        rect = transformed_image.get_rect()
        # finally scale the image to given size
        transformed_image = pygame.transform.smoothscale(transformed_image,
                                                   (rect.width * scale_ratio, rect.height * scale_ratio))
        # t (not needed to be processed here)
        transformed_image.set_alpha(self.alpha)
        return transformed_image

    # calculate the size using given scale. e.g. the original image is 100*100, scale (2,2) will make the size 200*200
    # scale is always (1,1) when using the original size
    def _size2d(self):
        x = self.image.get_size()[0] * self.scale2d[0]
        y = self.image.get_size()[1] * self.scale2d[1]
        return x, y

    # cache the transformed image so that it won't be resampled every frame
    def _store_cache(self):
        self._cached_image_src = self.image_src
        if self.image_src not in self._cached_src_image_dict.keys():
            self._cached_src_image_dict[self.image_src] = pygame.image.load(self.image_src).convert_alpha()
        self._cached_transformed_image = self._transform_image()
        self._cached_size2d = self._size2d()
        self._cached_rotation2d = self.rotation2d
        self._cached_alpha = self.alpha

    # when properties changed e.g. scale or the whole image src, it requires a resample, which means update the cache
    def _update_cache_if_dirty(self):
        if self.image_src != self._cached_image_src:
            self._store_cache()
        elif self._cached_size2d != self._size2d() or self.rotation2d != self._cached_rotation2d or self.alpha != self._cached_alpha:
            self._store_cache()

    def draw(self, screen):
        self._update_cache_if_dirty()
        rect = self._cached_transformed_image.get_rect(center=self.position2d)
        screen.blit(self._cached_transformed_image, rect.topleft)

    def update(self):
        pass


class Label(RenderableImage):
    # if it's image instead of text:
    def __init__(self, image_path, pos, scale_factor=0.2):
        super().__init__(image_path, pos, (scale_factor, scale_factor),(1, 0), 255)

    @property
    def image_path(self):
        return self.image_src

    @image_path.setter
    def image_path(self, value):
        self.image_src = value

    @property
    def pos(self):
        return self.position2d

    @pos.setter
    def pos(self, pos):
        self.position2d = pos

    @property
    def img(self):
        return self._cached_transformed_image

    @property
    def width(self):
        return self._size2d()[0]

    @width.setter
    def width(self, width):
        scale_x = self.image.get_width() / width
        scale_y = self.scale2d[1]
        self.scale2d = (scale_x, scale_y)

    @property
    def height(self):
        return self._size2d()[1]

    @height.setter
    def height(self, height):
        scale_y = self.image.get_height() / height
        scale_x = self.scale2d[0]
        self.scale2d = (scale_x, scale_y)


class ClickableLabel(Label):
    def __init__(self, image_path1, image_path2, pos, scale_factor=0.1):
        super().__init__(image_path1, pos)
        self.image_path1 = image_path1  # pict for normal(without click)
        self.image_path2 = image_path2  # pict for hover
        self.img_src_normal = self.image_path1
        self.img_src_hover = self.image_path2
        self.click_listener_list = []

    def is_inside(self, pos):
        return self.pos[0] <= pos[0] <= self.pos[0] + self.width and \
            self.pos[1] <= pos[1] <= self.pos[1] + self.height

    def update(self):
        if self.is_inside(pygame.mouse.get_pos()):
            self.image_src = self.img_src_hover
        else:
            self.image_src = self.img_src_normal

    def mouseup(self, event):
        if event.button == 1 and self.is_inside(event.pos):
            self.click()

    def click(self):
        for listener in self.click_listener_list:
            listener()

    def add_click_listener(self, function):
        self.click_listener_list.append(function)

class PlayGameLabel(ClickableLabel):
    def click(self):
        global current_screen
        current_screen = StartGameScreen()

class RulesLabel(ClickableLabel):
    def click(self):
        global current_screen
        current_screen = RuleScreen()

class SettingLabel(ClickableLabel):
    def click(self):
        global current_screen
        current_screen = SettingScreen()

class QuitGameLabel(ClickableLabel):
    def click(self):
        global current_screen
        current_screen = HomeScreen()

class TwoPlayerLabel(ClickableLabel):
    def click(self):
        global current_screen
        current_screen = TwoPlayerScreen()

class ThreePlayerLabel(ClickableLabel):
    def click(self):
        global current_screen
        current_screen = ThreePlayerScreen()

class DrawCardLabel(ClickableLabel):
    def __init__(self, game):
        self.game = game  # Reference to the PlayGame instance

    def display_action_options(self):
        choice = input("Choose action:\n1. Take a card from the opponent\n2. Draw cards from the deck\n")

        if choice == '1':
            self.game.take_card_from_opponent()
        elif choice == '2':
            self.game.draw_cards_from_deck()
        else:
            print("Invalid choice. Please choose again.")

    def reset_turn(self):
        self.game.reset_turn()

class DiscardLabel(ClickableLabel):
    def __init__(self, game):
        self.game = game

    def click(self):
        self.game.discard_card()

class PlayForMeLabel(ClickableLabel):
    def __init__(self, game):
        self.game = game

    def click(self):
        self.game.play_for_me()

class GamePassLabel(ClickableLabel):
    def __init__(self, image_path_1, image_path_2, pos, scale_factor=0.2):
        super().__init__(image_path_1, image_path_2, pos, scale_factor=scale_factor)

    def click(self):
        pass

class NewGameLabel(ClickableLabel):
    def click(self):
        global current_screen
        current_screen = HomeScreen()

class ExitGameLabel(ClickableLabel):
    def click(self):
        global game_over
        game_over = True

class DeckLabel(ClickableLabel):
    def click(self):
        global current_screen

class Card(RenderableImage):
    @staticmethod
    def calc_orientation_rotation(orientation):
        if orientation == 'left':
            return math_util.euler_angle_to_rotation(90)
        elif orientation == 'right':
            return math_util.euler_angle_to_rotation(-90)
        elif orientation == 'top':
            return math_util.euler_angle_to_rotation(180)
        else:
            return math_util.euler_angle_to_rotation(0)

    @staticmethod
    def calc_image_src(color, number):
        """Calculate the image source path, raises FileNotFoundError if not found"""
        filename = f"resources/images/ui/cards/{color}_{number}.png"
        if not os.path.exists(filename):
            raise FileNotFoundError(f"Card image not found: {filename}")
        return filename

    def __init__(self, x, y, color, number, orientation='normal', scale_factor=0.2):
        # Create a default pygame surface if image not found
        try:
            image_src = self.calc_image_src(color, number)
            super().__init__(image_src, (x,y), (scale_factor, scale_factor),
                           self.calc_orientation_rotation(orientation), 255)
        except FileNotFoundError:
            print(f"Warning: Creating default card for {color}_{number}")
            # Create a default colored rectangle for missing card images
            default_surface = pygame.Surface((100, 150))  # Standard card size
            if color == 'red':
                default_surface.fill((255, 0, 0))  # Red
            elif color == 'blue':
                default_surface.fill((0, 0, 255))  # Blue
            elif color == 'green':
                default_surface.fill((0, 255, 0))  # Green
            else:
                default_surface.fill((128, 128, 128))  # Gray for unknown colors
            
            # Draw the number on the card
            font = pygame.font.Font(None, 36)
            text = font.render(str(number), True, (255, 255, 255))
            text_rect = text.get_rect(center=(50, 75))
            default_surface.blit(text, text_rect)
            
            # Save the surface as a temporary file
            temp_path = f"temp_card_{color}_{number}.png"
            pygame.image.save(default_surface, temp_path)
            super().__init__(temp_path, (x,y), (scale_factor, scale_factor),
                           self.calc_orientation_rotation(orientation), 255)
            # Clean up the temporary file
            os.remove(temp_path)

        print(f"Created card: color={color}, number={number}, image={self.image_src}")
        self.x = x
        self.y = y
        self.color = color
        self.number = number
        self.orientation = orientation

    def draw(self, screen):
        print(f"Drawing card: color={self.color}, number={self.number} at position={self.position2d}")
        super().draw(screen)

class Player(VisualObject):
    def __init__(self, position, cards):
        super().__init__()
        self.position = position
        self.cards = cards

    def draw(self, screen):
        self.display_cards(screen)

    def display_cards(self, screen):
        if not self.cards:
            return

        card_width = 50
        card_height = 75

        # Different spacing for horizontal vs vertical layouts
        h_spacing = 30  # Horizontal spacing (for bottom and top)
        v_spacing = 20  # Vertical spacing (for left and right)

        # Use spacing based on number of cards and position
        if len(self.cards) <= 5:
            card_spacing = h_spacing if self.position in ['bottom', 'top'] else v_spacing
        else:
            card_spacing = -25  # Overlap spacing when more than 5 cards

        if self.position == 'bottom':
            total_width = card_width * len(self.cards) + h_spacing * (len(self.cards) - 1)
            start_x = (WINDOW_WIDTH - total_width) / 2
            y = WINDOW_HEIGHT - 150
            for i, card in enumerate(self.cards):
                card.position2d = (start_x + i * (card_width + h_spacing), y)
                card.orientation = 'normal'
                card.rotation2d = Card.calc_orientation_rotation('normal')
                card.draw(screen)

        elif self.position == 'top':
            total_width = card_width * len(self.cards) + h_spacing * (len(self.cards) - 1)
            start_x = (WINDOW_WIDTH - total_width) / 2
            y = 50
            for i, card in enumerate(self.cards):
                card.position2d = (start_x + i * (card_width + h_spacing), y)
                card.orientation = 'top'
                card.rotation2d = Card.calc_orientation_rotation('top')
                card.draw(screen)

        elif self.position == 'left':
            total_height = card_height * len(self.cards) + v_spacing * (len(self.cards) - 1)
            x = 50
            start_y = (WINDOW_HEIGHT - total_height) / 2
            for i, card in enumerate(self.cards):
                card.position2d = (x, start_y + i * (card_height + v_spacing))
                card.orientation = 'right'
                card.rotation2d = Card.calc_orientation_rotation('right')
                card.draw(screen)

        elif self.position == 'right':
            total_height = card_height * len(self.cards) + v_spacing * (len(self.cards) - 1)
            x = WINDOW_WIDTH - card_width - 50
            start_y = (WINDOW_HEIGHT - total_height) / 2
            for i, card in enumerate(self.cards):
                card.position2d = (x, start_y + i * (card_height + v_spacing))
                card.orientation = 'left'
                card.rotation2d = Card.calc_orientation_rotation('left')
                card.draw(screen)
                
class ScreenBase:
    def __init__(self, background_filename=None):
        self.objects = []

        if background_filename is not None:
            if os.path.exists(background_filename):
                self.background_image = pygame.image.load(background_filename)
                self.background_image = pygame.transform.scale(self.background_image, (800, 600))
            else:
                print(f"Warning: Background image {background_filename} not found.")
                self.background_image = None
        else:
            self.background_image = None

    def draw(self, screen):
        if self.background_image is not None:
            screen.blit(self.background_image, (0, 0))
        else:
            screen.fill((0, 0, 0))

        for o in self.objects:
            o.draw(screen)

    def update(self):
        for o in self.objects:
            o.update()

    def keydown(self, event):
        pass

    def mouseup(self, event):
        for o in self.objects:
            o.mouseup(event)

class StartScreen(ScreenBase):
    def __init__(self):
        super().__init__(background_filename="resources/images/ui/screens/StartScreen.png")
        self.start_time = pygame.time.get_ticks()
        self.transition_delay = 3000

    def update(self):
        current_time = pygame.time.get_ticks()
        if current_time - self.start_time >= self.transition_delay:
            self.transition_to_home_screen()

    def transition_to_home_screen(self):
        global current_screen
        print("Transitioning to HomeScreen...")
        current_screen = HomeScreen()

class HomeScreen(ScreenBase):
    def __init__(self):
        super().__init__(background_filename="resources/images/ui/screens/HomeScreen.png")
        font = pygame.font.Font(None, 40)
        
        self.play_label = ClickableLabel("resources/images/ui/labels/play_game_label.png", 
                                       "resources/images/ui/labels/clickable_play_game_label.png",
                                       (400, 200), 0.2)
        self.play_label.add_click_listener(lambda : change_screen(StartGameScreen()))
        self.rules_label = ClickableLabel("resources/images/ui/labels/rules_label.png", 
                                        "resources/images/ui/labels/clickable_rules_label.png", 
                                        (400, 275))
        self.rules_label.add_click_listener(lambda : change_screen(RuleScreen()))
        self.exit_label = ExitGameLabel("resources/images/ui/labels/exit_label.png", 
                                      "resources/images/ui/labels/clickable_exit_label.png", 
                                      (400, 350))

        self.objects.append(self.play_label)
        self.objects.append(self.rules_label)
        self.objects.append(self.exit_label)

class RuleScreen(ScreenBase):
    def __init__(self):
        super().__init__(background_filename="resources/images/ui/screens/rulescreen.png")

class StartGameScreen(ScreenBase):
    def __init__(self):
        super().__init__(background_filename="resources/images/ui/screens/StartGameScreen.png")

        self.two_player_label = TwoPlayerLabel("resources/images/ui/labels/two_player.png", 
                                             "resources/images/ui/labels/clickable_two_player.png", 
                                             (200, 375))
        self.three_player_label = ThreePlayerLabel("resources/images/ui/labels/three_player.png", 
                                                 "resources/images/ui/labels/clickable_three_player.png",
                                                 (590, 375))

        self.objects.append(self.two_player_label)
        self.objects.append(self.three_player_label)

def create_deck():
    colors = ['red', 'yellow', 'blue', 'green']
    numbers = range(1, 11)  # 1 to 10
    deck = []
    
    # Create two of each card (duplicate deck)
    for _ in range(2):  # Do this twice for duplicates
        for color in colors:
            for number in numbers:
                deck.append({'color': color, 'number': number})
    
    # Shuffle the deck
    random.shuffle(deck)
    return deck

class TwoPlayerScreen(ScreenBase):
    def __init__(self):
        super().__init__(background_filename='resources/images/ui/screens/PlayScreen.png')
        self.players = []
        deck = create_deck()  # Create and shuffle the deck
        
        print("Initializing TwoPlayerScreen")
        
        # Deal 5 random cards to each player
        top_cards = [
            Card(x=0, y=0, color=deck[i]['color'], number=deck[i]['number']) 
            for i in range(5)
        ]
        
        bottom_cards = [
            Card(x=0, y=0, color=deck[i+5]['color'], number=deck[i+5]['number']) 
            for i in range(5)
        ]

        print(f"Created {len(top_cards)} top cards and {len(bottom_cards)} bottom cards")

        player1 = Player('top', top_cards)
        player2 = Player('bottom', bottom_cards)
        
        self.players.extend([player1, player2])
        print(f"Added {len(self.players)} players")
        
        for player in self.players:
            self.objects.append(player)
        print(f"Total objects: {len(self.objects)}")

        self._init_game_controls()

    def _init_game_controls(self):
        self.deck_label = ClickableLabel("resources/images/ui/labels/deck_label.png", 
                                       "resources/images/ui/labels/clickable_deck_label.png", 
                                       (WINDOW_WIDTH/2,WINDOW_HEIGHT/2), 0.1)
        self.game_pass_label = ClickableLabel("resources/images/ui/labels/game_pass_label.png", 
                                            "resources/images/ui/labels/clickable_game_pass_label.png",
                                            (50, 550), 2)
        self.draw_card_label = ClickableLabel("resources/images/ui/labels/draw_card_label.png", 
                                            "resources/images/ui/labels/clickable_draw_card_label.png",
                                            (200, 550), 2)
        self.discard_label = ClickableLabel("resources/images/ui/labels/discard_label.png", 
                                          "resources/images/ui/labels/clickable_discard_label.png", 
                                          (350, 550), 2)
        self.play_for_me_label = ClickableLabel("resources/images/ui/labels/play_for_me_label.png",
                                              "resources/images/ui/labels/clickable_play_for_me_label.png", 
                                              (650, 550), 2)

        self.objects.extend([
            self.deck_label,
            self.game_pass_label,
            self.draw_card_label,
            self.discard_label,
            self.play_for_me_label
        ])

    def draw(self, screen):
        super().draw(screen)
        print("Drawing TwoPlayerScreen")
        for player in self.players:
            print(f"Drawing player at {player.position} with {len(player.cards)} cards")
            
class ThreePlayerScreen(ScreenBase):
    def __init__(self):
        super().__init__(background_filename='resources/images/ui/screens/PlayScreen.png')
        self.players = []
        deck = create_deck()  # Create and shuffle the deck
        
        print("Initializing ThreePlayerScreen")
        
        # Deal 5 random cards to each player
        left_cards = [
            Card(x=0, y=0, color=deck[i]['color'], number=deck[i]['number']) 
            for i in range(5)
        ]
        
        bottom_cards = [
            Card(x=0, y=0, color=deck[i+5]['color'], number=deck[i+5]['number']) 
            for i in range(5)
        ]
        
        right_cards = [
            Card(x=0, y=0, color=deck[i+10]['color'], number=deck[i+10]['number']) 
            for i in range(5)
        ]

        print(f"Created {len(left_cards)} left cards, {len(bottom_cards)} bottom cards, and {len(right_cards)} right cards")

        player1 = Player('left', left_cards)
        player2 = Player('bottom', bottom_cards)
        player3 = Player('right', right_cards)
        
        self.players.extend([player1, player2, player3])
        print(f"Added {len(self.players)} players")
        
        for player in self.players:
            self.objects.append(player)
        print(f"Total objects: {len(self.objects)}")

        self._init_game_controls()

    def _init_game_controls(self):
        self.deck_label = ClickableLabel("resources/images/ui/labels/deck_label.png", 
                                       "resources/images/ui/labels/clickable_deck_label.png", 
                                       (WINDOW_WIDTH/2,WINDOW_HEIGHT/2), 0.1)
        self.game_pass_label = ClickableLabel("resources/images/ui/labels/game_pass_label.png", 
                                            "resources/images/ui/labels/clickable_game_pass_label.png",
                                            (50, 550), 2)
        self.draw_card_label = ClickableLabel("resources/images/ui/labels/draw_card_label.png", 
                                            "resources/images/ui/labels/clickable_draw_card_label.png",
                                            (200, 550), 2)
        self.discard_label = ClickableLabel("resources/images/ui/labels/discard_label.png", 
                                          "resources/images/ui/labels/clickable_discard_label.png", 
                                          (350, 550), 2)
        self.play_for_me_label = ClickableLabel("resources/images/ui/labels/play_for_me_label.png",
                                              "resources/images/ui/labels/clickable_play_for_me_label.png", 
                                              (650, 550), 2)

        self.objects.extend([
            self.deck_label,
            self.game_pass_label,
            self.draw_card_label,
            self.discard_label,
            self.play_for_me_label
        ])

    def draw(self, screen):
        super().draw(screen)
        print("Drawing ThreePlayerScreen")
        for player in self.players:
            print(f"Drawing player at {player.position} with {len(player.cards)} cards")
            
class CongratsScreen(ScreenBase):
    def __init__(self):
        super().__init__(background_filename='resources/images/ui/screens/CongratsScreen.png')

        self.newgame_label = NewGameLabel("resources/images/ui/labels/new_game_label.png", 
                                        "resources/images/ui/labels/clickable_new_game_label.png",
                                        (350, 250))
        self.exitgame_label = ExitGameLabel("resources/images/ui/labels/exit_label.png", 
                                          "resources/images/ui/labels/clickable_exit_label.png", 
                                          (350, 350))

        self.objects.append(self.newgame_label)
        self.objects.append(self.exitgame_label)

    def keydown(self, event):
        if event.key == K_ESCAPE:
            global game_over
            game_over = True

class LoseScreen(ScreenBase):
    def __init__(self):
        super().__init__(background_filename='resources/images/ui/screens/LoseScreen.png')

        self.newgame_label = NewGameLabel("resources/images/ui/labels/new_game_label.png", 
                                        "resources/images/ui/labels/clickable_new_game_label.png",
                                        (350, 250))
        self.exitgame_label = ExitGameLabel("resources/images/ui/labels/exit_label.png", 
                                          "resources/images/ui/labels/clickable_exit_label.png", 
                                          (350, 350))

        self.objects.append(self.newgame_label)
        self.objects.append(self.exitgame_label)

    def keydown(self, event):
        if event.key == K_ESCAPE:
            global game_over
            game_over = True

from time import sleep

pygame.init()
screen = pygame.display.set_mode((WINDOW_WIDTH, WINDOW_HEIGHT))
pygame.display.set_caption('Card Game Funt4stic Te4m')
current_screen = StartScreen()

def main():
    global current_screen
    game_over = False

    while not game_over:
        for event in pygame.event.get():
            if event.type == QUIT:
                game_over = True
            if event.type == MOUSEBUTTONUP:
                current_screen.mouseup(event)
            if event.type == KEYDOWN:
                current_screen.keydown(event)

        current_screen.update()
        current_screen.draw(screen)
        pygame.display.flip()
        pygame.time.delay(30)

    pygame.quit()

if __name__ == "__main__":
    main()
