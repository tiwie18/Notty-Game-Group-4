import pygame
from pygame.locals import *
import random
import os

WINDOW_WIDTH = 800
WINDOW_HEIGHT = 600

game_over = False
current_screen = None


class VisualObject:
    def __init__(self):
        pass

    def draw(self, screen):
        pass

    def update(self):
        pass

    def mouseup(self, event):
        pass
        

class Label(VisualObject):
     #if it's image instead of text:
    def __init__(self, image_path, pos):
        self.image_path = image_path
        self.pos = pos
        self.img = pygame.image.load(self.image_path)
        self.width = self.img.get_width()
        self.height = self.img.get_height()
    def draw(self, screen):
        screen.blit(self.img, self.pos)
   
class ClickableLabel(Label):
    def __init__(self, image_path1, image_path2, pos):
        super().__init__(image_path1, pos)
        self.image_path1 = image_path1  #pict for normal(without click)
        self.image_path2 = image_path2  #pict for hover
        self.img_normal = pygame.image.load(self.image_path1)
        self.img_hover = pygame.image.load(self.image_path2)
        self.img = self.img_normal
        self.width = self.img.get_width()
        self.height = self.img.get_height()

    def is_inside(self, pos):
        return self.pos[0] <= pos[0] <= self.pos[0] + self.width and \
               self.pos[1] <= pos[1] <= self.pos[1] + self.height

    def update(self):
        if self.is_inside(pygame.mouse.get_pos()):
            self.img = self.img_hover  
        else:
            self.img = self.img_normal  

    def mouseup(self, event):
        if event.button == 1 and self.is_inside(event.pos):
            self.click()

    def click(self):
        pass

class PlayGameLabel(ClickableLabel):
    def click(self):
        global current_screen
        current_screen = StartGameScreen()
        
class RulesLabel(ClickableLabel):
    def click(self):
        global current_screen
        current_screen = RuleScreen()

class SettingLabel(ClickableLabel):
    def click(self):
        global current_screen
        current_screen = SettingScreen()
        
class QuitGameLabel(ClickableLabel):
    def click(self):
        global current_screen
        current_screen = HomeScreen()

class TwoPlayerLabel(ClickableLabel):
    def click(self):
        global current_screen
        current_screen = PlayScreen()

class ThreePlayerLabel(ClickableLabel):
    def click(self):
        global current_screen
        current_screen = PlayScreen()
        
class DrawCardLabel(ClickableLabel):
    def __init__(self, game):
        self.game = game  # Reference to the PlayGame instance

    def display_action_options(self):
        # Display action options for the player
        choice = input("Choose action:\n1. Take a card from the opponent\n2. Draw cards from the deck\n")
        
        if choice == '1':
            self.game.take_card_from_opponent()  # Execute the action from PlayGame(we need to make new def in PlayGame Class)
        elif choice == '2':
            self.game.draw_cards_from_deck()  # Execute the action from PlayGame(we need to make new def in PlayGame Class)
        else:
            print("Invalid choice. Please choose again.")

    def reset_turn(self):
        # to make sure that this choice only once per turn
        self.game.reset_turn()
        
class DiscardLabel(ClickableLabel):
    def __init__(self, game):
        self.game = game  
    
    def click(self):
        self.game.discard_card()  # Execute the action from PlayGame(we need to make new def in PlayGame Class)

class PlayForMeLabel(ClickableLabel):  
    def __init__(self, game):
        self.game = game  
    
    def click(self):
        self.game.play_for_me()  # Execute the action from PlayGame(we need to make new def in PlayGame Class)
        
class GamePassLabel(ClickableLabel):
    def __init__(self, game):
        self.game = game  
    
    def click(self):
        pass

class NewGameLabel(ClickableLabel):
    def click(self):
        global current_screen
        current_screen = HomeScreen()

class ExitGameLabel(ClickableLabel):
    def click(self):
        global game_over
        game_over = True
        
class Card(VisualObject):
    def __init__(self, x, y, color, number, orientation='normal'):
        self.x = x
        self.y = y
        self.color = color
        self.number = number
        self.orientation = orientation  # 'normal', 'left', 'right', 'top'
        self.image = self.load_image(color, number)  # Load image dynamically based on card color/number
        self.image = self.adjust_orientation(self.image)  # Adjust card's orientation based on player position

    def load_image(self, color, number):
        """Load the appropriate image based on the card's color and number."""
        image_filename = f"cards/{color}_{number}.png"
        if os.path.exists(image_filename):
            return pygame.image.load(image_filename)
        else:
            print(f"Warning: Image {image_filename} not found, using a default card image.")
            return pygame.image.load('cards/default.png')
    
    def adjust_orientation(self, image):
        """Rotate the card based on its orientation ('normal', 'left', 'right', 'top')."""
        if self.orientation == 'left':
            return pygame.transform.rotate(image, 90)  # Rotate 90 degrees for left player
        elif self.orientation == 'right':
            return pygame.transform.rotate(image, -90)  # Rotate -90 degrees for right player
        elif self.orientation == 'top':
            return pygame.transform.rotate(image, 180)  # Rotate 180 degrees for top player
        return image  # No rotation needed for normal (bottom player)

    def update(self):
        """Update the card's position or other properties if needed."""
        pass

    def draw(self, screen):
        """Draw the card image on the screen."""
        screen.blit(self.image, (self.x, self.y))

class Player(VisualObject):
    def __init__(self, position, cards):
        self.position = position  # Position: 'top', 'left', 'bottom', 'right'
        self.cards = cards  # List of cards

    def display_cards(self, screen, card_spacing=-25):  # Negative spacing for overlap
        """Display the player's cards with the correct orientation, based on the player count."""
        card_width = self.cards[0].image.get_width()  # Width of a single card
        card_height = self.cards[0].image.get_height()  # Height of a single card

        if self.position == 'bottom':
            # Player at the bottom: cards are displayed horizontally with overlap
            start_x = 50
            start_y = 450
            for i, card in enumerate(self.cards):
                card.x = start_x + i * (card_spacing + card_width)  # Adjust x for horizontal overlap
                card.y = start_y  # Keep y constant for all cards
                card.orientation = 'normal'  # No rotation needed for the bottom player
                card.draw(screen)

        elif self.position == 'left':
            # Player at the left: cards are stacked vertically with overlap
            start_x = 50
            start_y = 100
            for i, card in enumerate(self.cards):
                card.x = start_x  # x is fixed for left position
                card.y = start_y + i * (card_spacing + card_height)  # Adjust y for vertical overlap
                card.orientation = 'left'  # Rotate cards for the left player
                card.draw(screen)

        elif self.position == 'right':
            # Player at the right: cards are stacked vertically with overlap
            start_x = 550
            start_y = 100
            for i, card in enumerate(self.cards):
                card.x = start_x  # x is fixed for right position
                card.y = start_y + i * (card_spacing + card_height)  # Adjust y for vertical overlap
                card.orientation = 'right'  # Rotate cards for the right player
                card.draw(screen)

        elif self.position == 'top':
            # Player at the top: cards are displayed horizontally with overlap
            start_x = 50
            start_y = 50
            for i, card in enumerate(self.cards):
                card.x = start_x + i * (card_spacing + card_width)  # Adjust x for horizontal overlap
                card.y = start_y  # Keep y constant for all cards
                card.orientation = 'top'  # Rotate cards for the top player
                card.draw(screen)
                
class Deck(VisualObject):
    def __init__(self, screen_width, screen_height, card_back_image="cards/backside_card.png", card_count=20, card_spacing=5):
        super().__init__()
        self.screen_width = screen_width
        self.screen_height = screen_height
        self.card_back_image = card_back_image  # Image for the back of the cards
        self.card_count = card_count  # Number of cards in the deck
        self.card_spacing = card_spacing  # Vertical spacing between cards to create "stacked" effect
        self.cards = []  # List to hold the cards

        # Load the back image of the card
        if not os.path.exists(self.card_back_image):
            print(f"Warning: Image {self.card_back_image} not found. Make sure it's in the correct path.")
            return
        
        self.card_back = pygame.image.load(self.card_back_image)
        self.card_width = self.card_back.get_width()  # Get card width from the image
        self.card_height = self.card_back.get_height()  # Get card height from the image

        # Calculate the total height of the stack (stack of cards)
        total_height = self.card_height + (self.card_count - 1) * self.card_spacing

        # Center the deck stack horizontally and vertically on the screen
        self.x = (self.screen_width - self.card_width) // 2
        self.y = (self.screen_height - total_height) // 2

        # Load the cards into the deck
        self.load_cards()

    def load_cards(self):
        """Load the deck with facedown cards."""
        # Create a list of positions for the cards, stacked vertically with a slight offset
        for i in range(self.card_count):
            card_y = self.y + i * self.card_spacing  # Incremental vertical offset
            self.cards.append(card_y)

    def draw(self, screen):
        """Draw the stack of facedown cards."""
        for i, card_y in enumerate(self.cards):
            # Draw the card image at the calculated position
            screen.blit(self.card_back, (self.x, card_y))

    def update(self):
        """Any updates to the deck can go here."""
        pass

    def mouseup(self, event):
        """Handle mouse events if needed (e.g., clicking to draw a card)."""
        pass

class ScreenBase:
    def __init__(self, background_filename=None):
        """Initialize the screen with an optional background image."""
        self.objects = []

        # Set background to a solid color if no image is provided
        if background_filename is not None:
            if os.path.exists(background_filename):
                self.background_image = pygame.image.load(background_filename)
                self.background_image = pygame.transform.scale(self.background_image, (800, 600))  # Scale to screen size
            else:
                print(f"Warning: Background image {background_filename} not found.")
                self.background_image = None
        else:
            self.background_image = None

    def draw(self, screen):
        """Draw the background image or solid color, and all objects."""
        if self.background_image is not None:
            screen.blit(self.background_image, (0, 0))
        else:
            screen.fill((0, 0, 0))  # Default to black if no background image is set
        
        # Draw all objects in the objects list
        for o in self.objects:
            o.draw(screen)

    def update(self):
        """Update all objects on the screen."""
        for o in self.objects:
            o.update()

    def keydown(self, event):
        """Handle keydown events."""
        pass

    def mouseup(self, event):
        """Handle mouseup events."""
        for o in self.objects:
            o.mouseup(event)
            
class StartScreen(ScreenBase):
    def __init__(self):
        """Initialize the StartScreen with the background image and some objects."""
        super().__init__(background_filename="screens/StartScreen.png")  # Set the background to 'startscreen.png'
        
        # Track the time when the StartScreen was shown
        self.start_time = pygame.time.get_ticks()  # Get the current time in milliseconds
        self.transition_delay = 3000  # Delay of 3 seconds (3000 milliseconds)

    def update(self):
        """Check the time and transition after the delay."""
        current_time = pygame.time.get_ticks()
        
        # If 3 seconds have passed, transition to the home screen
        if current_time - self.start_time >= self.transition_delay:
            self.transition_to_home_screen()

    def transition_to_home_screen(self):
        """Handle the transition to the home screen."""
        print("Transitioning to HomeScreen...")
        # You can set a flag here or directly create and display the home screen.
        # For example, switching to a HomeScreen or GameScreen would be done here.

        # Example: game.screen = HomeScreen()  # You can call the HomeScreen here

class HomeScreen(ScreenBase):
    def __init__(self):
        """Initialize the HomeScreen with the background and clickable labels."""
        super().__init__(background_filename="screens/HomeScreen.png")  # Set background for the home screen

        # Define the font for labels
        font = pygame.font.Font(None, 40)

        # Create the clickable labels with positions (already defined classes)
        self.play_label = PlayGameLabel(position=(350, 200), text="Play Game", font=font, color=pygame.Color('white'))
        self.rules_label = RulesLabel(position=(350, 270), text="Rules", font=font, color=pygame.Color('white'))
        self.settings_label = SettingLabel(position=(350, 340), text="Settings", font=font, color=pygame.Color('white'))

        # Add labels to the screen objects list
        self.objects.append(self.play_label)
        self.objects.append(self.rules_label)
        self.objects.append(self.settings_label)

class RuleScreen(ScreenBase):
    def __init__(self):
        """Initialize the RuleScreen with the background image rulescreen.png."""
        super().__init__(background_filename="screens/rulescreen.png")

class StartGameScreen(ScreenBase):
    def __init__(self):
        """Initialize the StartGameScreen with the background image startgamescreen.png."""
        super().__init__(background_filename="screens/StartGameScreen.png")  # Set background for the start game screen
        
        # Add clickable labels for the player selection
        self.two_player_label = TwoPlayerLabel("2 Player", 300, 300)  # Position (x, y) for 2 player label
        self.three_player_label = ThreePlayerLabel("3 Player", 300, 350)  # Position (x, y) for 3 player label
        
        # Add the labels to the screen objects
        self.objects.append(self.two_player_label)
        self.objects.append(self.three_player_label)

class PlayScreen(ScreenBase):
    def __init__(self, num_players):
        # Initialize the PlayScreen with a specific background
        super().__init__(pygame.Color('black'), 'screens/PlayScreen.png')

        # Create player objects and add them to the screen
        self.num_players = num_players
        self.players = []

        # Create players based on the number of players selected (2 or 3)
        if self.num_players == 2:
            # Player 1 (Top)
            player1 = Player('top', [Card(x=100, y=150, color='red', number=5), Card(x=150, y=150, color='blue', number=8)])
            # Player 2 (Bottom)
            player2 = Player('bottom', [Card(x=100, y=450, color='green', number=3), Card(x=150, y=450, color='yellow', number=9)])
            
            self.players.append(player1)
            self.players.append(player2)
            
        elif self.num_players == 3:
            # Player 1 (Left)
            player1 = Player('left', [Card(x=100, y=150, color='red', number=5), Card(x=100, y=200, color='blue', number=8)])
            # Player 2 (Bottom)
            player2 = Player('bottom', [Card(x=100, y=450, color='green', number=3), Card(x=150, y=450, color='yellow', number=9)])
            # Player 3 (Right)
            player3 = Player('right', [Card(x=600, y=150, color='green', number=7), Card(x=600, y=200, color='yellow', number=2)])
            
            self.players.append(player1)
            self.players.append(player2)
            self.players.append(player3)

        # Add players to the screen
        for player in self.players:
            self.objects.append(player)

        # Create the deck with face-down cards and add it to the objects list
        self.deck = Deck(x=350, y=250)  # Example position for the deck
        self.objects.append(self.deck)

        # Create the clickable labels for game actions
        self.game_pass_label = GamePassLabel("Pass Turn", 50, 550)  # Position the label horizontally at the bottom
        self.draw_card_label = DrawCardLabel("Draw Card", 200, 550)
        self.discard_label = DiscardLabel("Discard Card", 350, 550)
        self.quit_game_label = QuitGameLabel("Quit Game", 500, 550)
        self.play_for_me_label = PlayForMeLabel("Play For Me", 650, 550)
        
        # Add the clickable labels to the objects list
        self.objects.append(self.game_pass_label)
        self.objects.append(self.draw_card_label)
        self.objects.append(self.discard_label)
        self.objects.append(self.quit_game_label)
        self.objects.append(self.play_for_me_label)

class CongratsScreen(ScreenBase):
    def __init__(self):
        super().__init__(background_filename='screens/CongratsScreen.png')  # Use congratsscreen.png as background
        
        # Define the width and height of the labels
        label_width = 200
        label_height = 50
        
        # Calculate the starting X position so the labels are horizontally centered
        total_width = 2 * label_width + 30  # 30 is the spacing between the labels
        start_x = (800 - total_width) // 2  # Center the labels horizontally (screen width is 800)
        
        # Position the labels at the bottom of the screen
        start_y = 500  # Fixed y position for the labels at the bottom
        
        # Create the clickable labels with their image files and positions
        self.objects.append(NewGameLabel('newgamelabel.png', (start_x, start_y)))
        self.objects.append(ExitGameLabel('exitgamelabel.png', (start_x + label_width + 30, start_y)))  # 30 is the horizontal spacing between the labels
    
    def keydown(self, event):
        """Handle keydown events, such as ESC for quitting the game."""
        if event.key == K_ESCAPE:
            global game_over
            game_over = True

class LoseScreen(ScreenBase):
    def __init__(self):
        super().__init__(background_filename='screens/LoseScreen.png')  # Use congratsscreen.png as background
        
        # Define the width and height of the labels
        label_width = 200
        label_height = 50
        
        # Calculate the starting X position so the labels are horizontally centered
        total_width = 2 * label_width + 30  # 30 is the spacing between the labels
        start_x = (800 - total_width) // 2  # Center the labels horizontally (screen width is 800)
        
        # Position the labels at the bottom of the screen
        start_y = 500  # Fixed y position for the labels at the bottom
        
        # Create the clickable labels with their image files and positions
        self.objects.append(NewGameLabel('newgamelabel.png', (start_x, start_y)))
        self.objects.append(ExitGameLabel('exitgamelabel.png', (start_x + label_width + 30, start_y)))  # 30 is the horizontal spacing between the labels
    
    def keydown(self, event):
        """Handle keydown events, such as ESC for quitting the game."""
        if event.key == K_ESCAPE:
            global game_over
            game_over = True


from time import sleep

# Initialize pygame
pygame.init()

# Set the window dimensions
screen = pygame.display.set_mode((WINDOW_WIDTH, WINDOW_HEIGHT))
pygame.display.set_caption('Card Game')

# Start with the home screen
current_screen = StartScreen()

# Main game loop
def main():
    global current_screen
    game_over = False
    
    while not game_over:
        # Event handling
        for event in pygame.event.get():
            if event.type == QUIT:
                game_over = True
            if event.type == MOUSEBUTTONUP:
                current_screen.mouseup(event)
            if event.type == KEYDOWN:
                current_screen.keydown(event)
        
        # Update game state
        current_screen.update()
        
        # Draw everything
        current_screen.draw(screen)
        
        # Update the screen
        pygame.display.flip()
        
        # Delay to limit frame rate
        pygame.time.delay(30)

    pygame.quit()

if __name__ == "__main__":
    main()
